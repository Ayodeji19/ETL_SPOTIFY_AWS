{
 "cells": [
  {
   "cell_type": "code",
   "execution_count": 1,
   "id": "9ee1091c",
   "metadata": {},
   "outputs": [
    {
     "name": "stdout",
     "output_type": "stream",
     "text": [
      "Requirement already satisfied: spotipy in /Users/ayodeji/anaconda3/lib/python3.11/site-packages (2.23.0)\r\n",
      "Requirement already satisfied: redis>=3.5.3 in /Users/ayodeji/anaconda3/lib/python3.11/site-packages (from spotipy) (4.6.0)\r\n",
      "Requirement already satisfied: requests>=2.25.0 in /Users/ayodeji/anaconda3/lib/python3.11/site-packages (from spotipy) (2.29.0)\r\n",
      "Requirement already satisfied: six>=1.15.0 in /Users/ayodeji/anaconda3/lib/python3.11/site-packages (from spotipy) (1.16.0)\r\n",
      "Requirement already satisfied: urllib3>=1.26.0 in /Users/ayodeji/anaconda3/lib/python3.11/site-packages (from spotipy) (1.26.16)\r\n",
      "Requirement already satisfied: charset-normalizer<4,>=2 in /Users/ayodeji/anaconda3/lib/python3.11/site-packages (from requests>=2.25.0->spotipy) (2.0.4)\r\n",
      "Requirement already satisfied: idna<4,>=2.5 in /Users/ayodeji/anaconda3/lib/python3.11/site-packages (from requests>=2.25.0->spotipy) (3.4)\r\n",
      "Requirement already satisfied: certifi>=2017.4.17 in /Users/ayodeji/anaconda3/lib/python3.11/site-packages (from requests>=2.25.0->spotipy) (2023.5.7)\r\n"
     ]
    }
   ],
   "source": [
    "!pip install spotipy\n"
   ]
  },
  {
   "cell_type": "code",
   "execution_count": 3,
   "id": "027fc34f",
   "metadata": {},
   "outputs": [],
   "source": [
    "import spotipy\n",
    "from spotipy.oauth2 import SpotifyClientCredentials\n",
    "import os"
   ]
  },
  {
   "cell_type": "code",
   "execution_count": 4,
   "id": "51e13438",
   "metadata": {},
   "outputs": [],
   "source": [
    "client_id=os.getenv('SPOTIFY_CLIENT_ID')\n",
    "client_secret= os.getenv('SPOTIFY_CLIENT_SEC')"
   ]
  },
  {
   "cell_type": "code",
   "execution_count": 5,
   "id": "d78c19eb",
   "metadata": {},
   "outputs": [],
   "source": [
    "client_credentials_manager=SpotifyClientCredentials(client_id=client_id,client_secret=client_secret)"
   ]
  },
  {
   "cell_type": "code",
   "execution_count": 6,
   "id": "8cababaf",
   "metadata": {},
   "outputs": [],
   "source": [
    "spotify = spotipy.Spotify(client_credentials_manager=client_credentials_manager)"
   ]
  },
  {
   "cell_type": "code",
   "execution_count": null,
   "id": "8d31e42c",
   "metadata": {},
   "outputs": [],
   "source": []
  }
 ],
 "metadata": {
  "kernelspec": {
   "display_name": "Python 3 (ipykernel)",
   "language": "python",
   "name": "python3"
  },
  "language_info": {
   "codemirror_mode": {
    "name": "ipython",
    "version": 3
   },
   "file_extension": ".py",
   "mimetype": "text/x-python",
   "name": "python",
   "nbconvert_exporter": "python",
   "pygments_lexer": "ipython3",
   "version": "3.11.3"
  }
 },
 "nbformat": 4,
 "nbformat_minor": 5
}
